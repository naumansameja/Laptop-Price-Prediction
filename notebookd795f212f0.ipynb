{
 "cells": [
  {
   "cell_type": "code",
   "execution_count": 1,
   "id": "419035f7",
   "metadata": {
    "execution": {
     "iopub.execute_input": "2024-02-02T14:24:14.898053Z",
     "iopub.status.busy": "2024-02-02T14:24:14.897248Z",
     "iopub.status.idle": "2024-02-02T14:24:17.928733Z",
     "shell.execute_reply": "2024-02-02T14:24:17.927523Z"
    },
    "papermill": {
     "duration": 3.053872,
     "end_time": "2024-02-02T14:24:17.931940",
     "exception": false,
     "start_time": "2024-02-02T14:24:14.878068",
     "status": "completed"
    },
    "tags": []
   },
   "outputs": [],
   "source": [
    "import pandas as pd\n",
    "import numpy as np\n",
    "from sklearn.preprocessing import OneHotEncoder\n",
    "from sklearn.preprocessing import StandardScaler\n",
    "from sklearn.compose import ColumnTransformer\n",
    "from sklearn.ensemble import RandomForestRegressor,GradientBoostingRegressor\n",
    "from sklearn.linear_model import LinearRegression\n",
    "from sklearn.neighbors import KNeighborsRegressor\n",
    "from sklearn.metrics import r2_score,mean_absolute_error\n",
    "import seaborn as sns\n",
    "import matplotlib.pyplot as plt"
   ]
  },
  {
   "cell_type": "code",
   "execution_count": 2,
   "id": "513471e5",
   "metadata": {
    "execution": {
     "iopub.execute_input": "2024-02-02T14:24:17.966133Z",
     "iopub.status.busy": "2024-02-02T14:24:17.965552Z",
     "iopub.status.idle": "2024-02-02T14:24:18.014507Z",
     "shell.execute_reply": "2024-02-02T14:24:18.013240Z"
    },
    "papermill": {
     "duration": 0.069305,
     "end_time": "2024-02-02T14:24:18.017185",
     "exception": false,
     "start_time": "2024-02-02T14:24:17.947880",
     "status": "completed"
    },
    "tags": []
   },
   "outputs": [
    {
     "ename": "FileNotFoundError",
     "evalue": "[Errno 2] No such file or directory: '/kaggle/input/laptop-details/Laptops.csv'",
     "output_type": "error",
     "traceback": [
      "\u001b[0;31m---------------------------------------------------------------------------\u001b[0m",
      "\u001b[0;31mFileNotFoundError\u001b[0m                         Traceback (most recent call last)",
      "Cell \u001b[0;32mIn[2], line 1\u001b[0m\n\u001b[0;32m----> 1\u001b[0m df\u001b[38;5;241m=\u001b[39m \u001b[43mpd\u001b[49m\u001b[38;5;241;43m.\u001b[39;49m\u001b[43mread_csv\u001b[49m\u001b[43m(\u001b[49m\u001b[38;5;124;43m\"\u001b[39;49m\u001b[38;5;124;43m/kaggle/input/laptop-details/Laptops.csv\u001b[39;49m\u001b[38;5;124;43m\"\u001b[39;49m\u001b[43m)\u001b[49m\n\u001b[1;32m      2\u001b[0m df\u001b[38;5;241m.\u001b[39mhead()\n",
      "File \u001b[0;32m~/.local/lib/python3.10/site-packages/pandas/io/parsers/readers.py:1024\u001b[0m, in \u001b[0;36mread_csv\u001b[0;34m(filepath_or_buffer, sep, delimiter, header, names, index_col, usecols, dtype, engine, converters, true_values, false_values, skipinitialspace, skiprows, skipfooter, nrows, na_values, keep_default_na, na_filter, verbose, skip_blank_lines, parse_dates, infer_datetime_format, keep_date_col, date_parser, date_format, dayfirst, cache_dates, iterator, chunksize, compression, thousands, decimal, lineterminator, quotechar, quoting, doublequote, escapechar, comment, encoding, encoding_errors, dialect, on_bad_lines, delim_whitespace, low_memory, memory_map, float_precision, storage_options, dtype_backend)\u001b[0m\n\u001b[1;32m   1011\u001b[0m kwds_defaults \u001b[38;5;241m=\u001b[39m _refine_defaults_read(\n\u001b[1;32m   1012\u001b[0m     dialect,\n\u001b[1;32m   1013\u001b[0m     delimiter,\n\u001b[0;32m   (...)\u001b[0m\n\u001b[1;32m   1020\u001b[0m     dtype_backend\u001b[38;5;241m=\u001b[39mdtype_backend,\n\u001b[1;32m   1021\u001b[0m )\n\u001b[1;32m   1022\u001b[0m kwds\u001b[38;5;241m.\u001b[39mupdate(kwds_defaults)\n\u001b[0;32m-> 1024\u001b[0m \u001b[38;5;28;01mreturn\u001b[39;00m \u001b[43m_read\u001b[49m\u001b[43m(\u001b[49m\u001b[43mfilepath_or_buffer\u001b[49m\u001b[43m,\u001b[49m\u001b[43m \u001b[49m\u001b[43mkwds\u001b[49m\u001b[43m)\u001b[49m\n",
      "File \u001b[0;32m~/.local/lib/python3.10/site-packages/pandas/io/parsers/readers.py:618\u001b[0m, in \u001b[0;36m_read\u001b[0;34m(filepath_or_buffer, kwds)\u001b[0m\n\u001b[1;32m    615\u001b[0m _validate_names(kwds\u001b[38;5;241m.\u001b[39mget(\u001b[38;5;124m\"\u001b[39m\u001b[38;5;124mnames\u001b[39m\u001b[38;5;124m\"\u001b[39m, \u001b[38;5;28;01mNone\u001b[39;00m))\n\u001b[1;32m    617\u001b[0m \u001b[38;5;66;03m# Create the parser.\u001b[39;00m\n\u001b[0;32m--> 618\u001b[0m parser \u001b[38;5;241m=\u001b[39m \u001b[43mTextFileReader\u001b[49m\u001b[43m(\u001b[49m\u001b[43mfilepath_or_buffer\u001b[49m\u001b[43m,\u001b[49m\u001b[43m \u001b[49m\u001b[38;5;241;43m*\u001b[39;49m\u001b[38;5;241;43m*\u001b[39;49m\u001b[43mkwds\u001b[49m\u001b[43m)\u001b[49m\n\u001b[1;32m    620\u001b[0m \u001b[38;5;28;01mif\u001b[39;00m chunksize \u001b[38;5;129;01mor\u001b[39;00m iterator:\n\u001b[1;32m    621\u001b[0m     \u001b[38;5;28;01mreturn\u001b[39;00m parser\n",
      "File \u001b[0;32m~/.local/lib/python3.10/site-packages/pandas/io/parsers/readers.py:1618\u001b[0m, in \u001b[0;36mTextFileReader.__init__\u001b[0;34m(self, f, engine, **kwds)\u001b[0m\n\u001b[1;32m   1615\u001b[0m     \u001b[38;5;28mself\u001b[39m\u001b[38;5;241m.\u001b[39moptions[\u001b[38;5;124m\"\u001b[39m\u001b[38;5;124mhas_index_names\u001b[39m\u001b[38;5;124m\"\u001b[39m] \u001b[38;5;241m=\u001b[39m kwds[\u001b[38;5;124m\"\u001b[39m\u001b[38;5;124mhas_index_names\u001b[39m\u001b[38;5;124m\"\u001b[39m]\n\u001b[1;32m   1617\u001b[0m \u001b[38;5;28mself\u001b[39m\u001b[38;5;241m.\u001b[39mhandles: IOHandles \u001b[38;5;241m|\u001b[39m \u001b[38;5;28;01mNone\u001b[39;00m \u001b[38;5;241m=\u001b[39m \u001b[38;5;28;01mNone\u001b[39;00m\n\u001b[0;32m-> 1618\u001b[0m \u001b[38;5;28mself\u001b[39m\u001b[38;5;241m.\u001b[39m_engine \u001b[38;5;241m=\u001b[39m \u001b[38;5;28;43mself\u001b[39;49m\u001b[38;5;241;43m.\u001b[39;49m\u001b[43m_make_engine\u001b[49m\u001b[43m(\u001b[49m\u001b[43mf\u001b[49m\u001b[43m,\u001b[49m\u001b[43m \u001b[49m\u001b[38;5;28;43mself\u001b[39;49m\u001b[38;5;241;43m.\u001b[39;49m\u001b[43mengine\u001b[49m\u001b[43m)\u001b[49m\n",
      "File \u001b[0;32m~/.local/lib/python3.10/site-packages/pandas/io/parsers/readers.py:1878\u001b[0m, in \u001b[0;36mTextFileReader._make_engine\u001b[0;34m(self, f, engine)\u001b[0m\n\u001b[1;32m   1876\u001b[0m     \u001b[38;5;28;01mif\u001b[39;00m \u001b[38;5;124m\"\u001b[39m\u001b[38;5;124mb\u001b[39m\u001b[38;5;124m\"\u001b[39m \u001b[38;5;129;01mnot\u001b[39;00m \u001b[38;5;129;01min\u001b[39;00m mode:\n\u001b[1;32m   1877\u001b[0m         mode \u001b[38;5;241m+\u001b[39m\u001b[38;5;241m=\u001b[39m \u001b[38;5;124m\"\u001b[39m\u001b[38;5;124mb\u001b[39m\u001b[38;5;124m\"\u001b[39m\n\u001b[0;32m-> 1878\u001b[0m \u001b[38;5;28mself\u001b[39m\u001b[38;5;241m.\u001b[39mhandles \u001b[38;5;241m=\u001b[39m \u001b[43mget_handle\u001b[49m\u001b[43m(\u001b[49m\n\u001b[1;32m   1879\u001b[0m \u001b[43m    \u001b[49m\u001b[43mf\u001b[49m\u001b[43m,\u001b[49m\n\u001b[1;32m   1880\u001b[0m \u001b[43m    \u001b[49m\u001b[43mmode\u001b[49m\u001b[43m,\u001b[49m\n\u001b[1;32m   1881\u001b[0m \u001b[43m    \u001b[49m\u001b[43mencoding\u001b[49m\u001b[38;5;241;43m=\u001b[39;49m\u001b[38;5;28;43mself\u001b[39;49m\u001b[38;5;241;43m.\u001b[39;49m\u001b[43moptions\u001b[49m\u001b[38;5;241;43m.\u001b[39;49m\u001b[43mget\u001b[49m\u001b[43m(\u001b[49m\u001b[38;5;124;43m\"\u001b[39;49m\u001b[38;5;124;43mencoding\u001b[39;49m\u001b[38;5;124;43m\"\u001b[39;49m\u001b[43m,\u001b[49m\u001b[43m \u001b[49m\u001b[38;5;28;43;01mNone\u001b[39;49;00m\u001b[43m)\u001b[49m\u001b[43m,\u001b[49m\n\u001b[1;32m   1882\u001b[0m \u001b[43m    \u001b[49m\u001b[43mcompression\u001b[49m\u001b[38;5;241;43m=\u001b[39;49m\u001b[38;5;28;43mself\u001b[39;49m\u001b[38;5;241;43m.\u001b[39;49m\u001b[43moptions\u001b[49m\u001b[38;5;241;43m.\u001b[39;49m\u001b[43mget\u001b[49m\u001b[43m(\u001b[49m\u001b[38;5;124;43m\"\u001b[39;49m\u001b[38;5;124;43mcompression\u001b[39;49m\u001b[38;5;124;43m\"\u001b[39;49m\u001b[43m,\u001b[49m\u001b[43m \u001b[49m\u001b[38;5;28;43;01mNone\u001b[39;49;00m\u001b[43m)\u001b[49m\u001b[43m,\u001b[49m\n\u001b[1;32m   1883\u001b[0m \u001b[43m    \u001b[49m\u001b[43mmemory_map\u001b[49m\u001b[38;5;241;43m=\u001b[39;49m\u001b[38;5;28;43mself\u001b[39;49m\u001b[38;5;241;43m.\u001b[39;49m\u001b[43moptions\u001b[49m\u001b[38;5;241;43m.\u001b[39;49m\u001b[43mget\u001b[49m\u001b[43m(\u001b[49m\u001b[38;5;124;43m\"\u001b[39;49m\u001b[38;5;124;43mmemory_map\u001b[39;49m\u001b[38;5;124;43m\"\u001b[39;49m\u001b[43m,\u001b[49m\u001b[43m \u001b[49m\u001b[38;5;28;43;01mFalse\u001b[39;49;00m\u001b[43m)\u001b[49m\u001b[43m,\u001b[49m\n\u001b[1;32m   1884\u001b[0m \u001b[43m    \u001b[49m\u001b[43mis_text\u001b[49m\u001b[38;5;241;43m=\u001b[39;49m\u001b[43mis_text\u001b[49m\u001b[43m,\u001b[49m\n\u001b[1;32m   1885\u001b[0m \u001b[43m    \u001b[49m\u001b[43merrors\u001b[49m\u001b[38;5;241;43m=\u001b[39;49m\u001b[38;5;28;43mself\u001b[39;49m\u001b[38;5;241;43m.\u001b[39;49m\u001b[43moptions\u001b[49m\u001b[38;5;241;43m.\u001b[39;49m\u001b[43mget\u001b[49m\u001b[43m(\u001b[49m\u001b[38;5;124;43m\"\u001b[39;49m\u001b[38;5;124;43mencoding_errors\u001b[39;49m\u001b[38;5;124;43m\"\u001b[39;49m\u001b[43m,\u001b[49m\u001b[43m \u001b[49m\u001b[38;5;124;43m\"\u001b[39;49m\u001b[38;5;124;43mstrict\u001b[39;49m\u001b[38;5;124;43m\"\u001b[39;49m\u001b[43m)\u001b[49m\u001b[43m,\u001b[49m\n\u001b[1;32m   1886\u001b[0m \u001b[43m    \u001b[49m\u001b[43mstorage_options\u001b[49m\u001b[38;5;241;43m=\u001b[39;49m\u001b[38;5;28;43mself\u001b[39;49m\u001b[38;5;241;43m.\u001b[39;49m\u001b[43moptions\u001b[49m\u001b[38;5;241;43m.\u001b[39;49m\u001b[43mget\u001b[49m\u001b[43m(\u001b[49m\u001b[38;5;124;43m\"\u001b[39;49m\u001b[38;5;124;43mstorage_options\u001b[39;49m\u001b[38;5;124;43m\"\u001b[39;49m\u001b[43m,\u001b[49m\u001b[43m \u001b[49m\u001b[38;5;28;43;01mNone\u001b[39;49;00m\u001b[43m)\u001b[49m\u001b[43m,\u001b[49m\n\u001b[1;32m   1887\u001b[0m \u001b[43m\u001b[49m\u001b[43m)\u001b[49m\n\u001b[1;32m   1888\u001b[0m \u001b[38;5;28;01massert\u001b[39;00m \u001b[38;5;28mself\u001b[39m\u001b[38;5;241m.\u001b[39mhandles \u001b[38;5;129;01mis\u001b[39;00m \u001b[38;5;129;01mnot\u001b[39;00m \u001b[38;5;28;01mNone\u001b[39;00m\n\u001b[1;32m   1889\u001b[0m f \u001b[38;5;241m=\u001b[39m \u001b[38;5;28mself\u001b[39m\u001b[38;5;241m.\u001b[39mhandles\u001b[38;5;241m.\u001b[39mhandle\n",
      "File \u001b[0;32m~/.local/lib/python3.10/site-packages/pandas/io/common.py:873\u001b[0m, in \u001b[0;36mget_handle\u001b[0;34m(path_or_buf, mode, encoding, compression, memory_map, is_text, errors, storage_options)\u001b[0m\n\u001b[1;32m    868\u001b[0m \u001b[38;5;28;01melif\u001b[39;00m \u001b[38;5;28misinstance\u001b[39m(handle, \u001b[38;5;28mstr\u001b[39m):\n\u001b[1;32m    869\u001b[0m     \u001b[38;5;66;03m# Check whether the filename is to be opened in binary mode.\u001b[39;00m\n\u001b[1;32m    870\u001b[0m     \u001b[38;5;66;03m# Binary mode does not support 'encoding' and 'newline'.\u001b[39;00m\n\u001b[1;32m    871\u001b[0m     \u001b[38;5;28;01mif\u001b[39;00m ioargs\u001b[38;5;241m.\u001b[39mencoding \u001b[38;5;129;01mand\u001b[39;00m \u001b[38;5;124m\"\u001b[39m\u001b[38;5;124mb\u001b[39m\u001b[38;5;124m\"\u001b[39m \u001b[38;5;129;01mnot\u001b[39;00m \u001b[38;5;129;01min\u001b[39;00m ioargs\u001b[38;5;241m.\u001b[39mmode:\n\u001b[1;32m    872\u001b[0m         \u001b[38;5;66;03m# Encoding\u001b[39;00m\n\u001b[0;32m--> 873\u001b[0m         handle \u001b[38;5;241m=\u001b[39m \u001b[38;5;28;43mopen\u001b[39;49m\u001b[43m(\u001b[49m\n\u001b[1;32m    874\u001b[0m \u001b[43m            \u001b[49m\u001b[43mhandle\u001b[49m\u001b[43m,\u001b[49m\n\u001b[1;32m    875\u001b[0m \u001b[43m            \u001b[49m\u001b[43mioargs\u001b[49m\u001b[38;5;241;43m.\u001b[39;49m\u001b[43mmode\u001b[49m\u001b[43m,\u001b[49m\n\u001b[1;32m    876\u001b[0m \u001b[43m            \u001b[49m\u001b[43mencoding\u001b[49m\u001b[38;5;241;43m=\u001b[39;49m\u001b[43mioargs\u001b[49m\u001b[38;5;241;43m.\u001b[39;49m\u001b[43mencoding\u001b[49m\u001b[43m,\u001b[49m\n\u001b[1;32m    877\u001b[0m \u001b[43m            \u001b[49m\u001b[43merrors\u001b[49m\u001b[38;5;241;43m=\u001b[39;49m\u001b[43merrors\u001b[49m\u001b[43m,\u001b[49m\n\u001b[1;32m    878\u001b[0m \u001b[43m            \u001b[49m\u001b[43mnewline\u001b[49m\u001b[38;5;241;43m=\u001b[39;49m\u001b[38;5;124;43m\"\u001b[39;49m\u001b[38;5;124;43m\"\u001b[39;49m\u001b[43m,\u001b[49m\n\u001b[1;32m    879\u001b[0m \u001b[43m        \u001b[49m\u001b[43m)\u001b[49m\n\u001b[1;32m    880\u001b[0m     \u001b[38;5;28;01melse\u001b[39;00m:\n\u001b[1;32m    881\u001b[0m         \u001b[38;5;66;03m# Binary mode\u001b[39;00m\n\u001b[1;32m    882\u001b[0m         handle \u001b[38;5;241m=\u001b[39m \u001b[38;5;28mopen\u001b[39m(handle, ioargs\u001b[38;5;241m.\u001b[39mmode)\n",
      "\u001b[0;31mFileNotFoundError\u001b[0m: [Errno 2] No such file or directory: '/kaggle/input/laptop-details/Laptops.csv'"
     ]
    }
   ],
   "source": [
    "df= pd.read_csv(\"Laptops.csv\")\n",
    "df.head()"
   ]
  },
  {
   "cell_type": "code",
   "execution_count": null,
   "id": "0e0df50b",
   "metadata": {
    "execution": {
     "iopub.execute_input": "2024-02-02T14:24:18.050415Z",
     "iopub.status.busy": "2024-02-02T14:24:18.050023Z",
     "iopub.status.idle": "2024-02-02T14:24:18.083907Z",
     "shell.execute_reply": "2024-02-02T14:24:18.081441Z"
    },
    "papermill": {
     "duration": 0.053717,
     "end_time": "2024-02-02T14:24:18.086726",
     "exception": false,
     "start_time": "2024-02-02T14:24:18.033009",
     "status": "completed"
    },
    "tags": []
   },
   "outputs": [],
   "source": [
    "df.info()"
   ]
  },
  {
   "cell_type": "code",
   "execution_count": null,
   "id": "f82fbd05",
   "metadata": {
    "execution": {
     "iopub.execute_input": "2024-02-02T14:24:18.121327Z",
     "iopub.status.busy": "2024-02-02T14:24:18.120891Z",
     "iopub.status.idle": "2024-02-02T14:24:18.131457Z",
     "shell.execute_reply": "2024-02-02T14:24:18.130346Z"
    },
    "papermill": {
     "duration": 0.031428,
     "end_time": "2024-02-02T14:24:18.134148",
     "exception": false,
     "start_time": "2024-02-02T14:24:18.102720",
     "status": "completed"
    },
    "tags": []
   },
   "outputs": [],
   "source": [
    "df.duplicated().sum()"
   ]
  },
  {
   "cell_type": "code",
   "execution_count": null,
   "id": "ac88d16c",
   "metadata": {
    "execution": {
     "iopub.execute_input": "2024-02-02T14:24:18.168518Z",
     "iopub.status.busy": "2024-02-02T14:24:18.167574Z",
     "iopub.status.idle": "2024-02-02T14:24:18.177448Z",
     "shell.execute_reply": "2024-02-02T14:24:18.176321Z"
    },
    "papermill": {
     "duration": 0.029566,
     "end_time": "2024-02-02T14:24:18.179944",
     "exception": false,
     "start_time": "2024-02-02T14:24:18.150378",
     "status": "completed"
    },
    "tags": []
   },
   "outputs": [],
   "source": [
    "df.isnull().sum()"
   ]
  },
  {
   "cell_type": "code",
   "execution_count": null,
   "id": "0a545207",
   "metadata": {
    "execution": {
     "iopub.execute_input": "2024-02-02T14:24:18.214630Z",
     "iopub.status.busy": "2024-02-02T14:24:18.214245Z",
     "iopub.status.idle": "2024-02-02T14:24:18.224220Z",
     "shell.execute_reply": "2024-02-02T14:24:18.223403Z"
    },
    "papermill": {
     "duration": 0.029925,
     "end_time": "2024-02-02T14:24:18.226543",
     "exception": false,
     "start_time": "2024-02-02T14:24:18.196618",
     "status": "completed"
    },
    "tags": []
   },
   "outputs": [],
   "source": [
    "df.dropna(inplace=True)\n",
    "df.shape"
   ]
  },
  {
   "cell_type": "code",
   "execution_count": null,
   "id": "508fff1b",
   "metadata": {
    "execution": {
     "iopub.execute_input": "2024-02-02T14:24:18.261124Z",
     "iopub.status.busy": "2024-02-02T14:24:18.260731Z",
     "iopub.status.idle": "2024-02-02T14:24:18.269110Z",
     "shell.execute_reply": "2024-02-02T14:24:18.267803Z"
    },
    "papermill": {
     "duration": 0.028721,
     "end_time": "2024-02-02T14:24:18.271689",
     "exception": false,
     "start_time": "2024-02-02T14:24:18.242968",
     "status": "completed"
    },
    "tags": []
   },
   "outputs": [],
   "source": [
    "df.drop(columns='Unnamed: 0',inplace=True)"
   ]
  },
  {
   "cell_type": "code",
   "execution_count": null,
   "id": "91988126",
   "metadata": {
    "execution": {
     "iopub.execute_input": "2024-02-02T14:24:18.306392Z",
     "iopub.status.busy": "2024-02-02T14:24:18.305967Z",
     "iopub.status.idle": "2024-02-02T14:24:18.314428Z",
     "shell.execute_reply": "2024-02-02T14:24:18.313620Z"
    },
    "papermill": {
     "duration": 0.028424,
     "end_time": "2024-02-02T14:24:18.316587",
     "exception": false,
     "start_time": "2024-02-02T14:24:18.288163",
     "status": "completed"
    },
    "tags": []
   },
   "outputs": [],
   "source": [
    "df['Operating System'].value_counts()"
   ]
  },
  {
   "cell_type": "code",
   "execution_count": null,
   "id": "9d3e267f",
   "metadata": {
    "execution": {
     "iopub.execute_input": "2024-02-02T14:24:18.351834Z",
     "iopub.status.busy": "2024-02-02T14:24:18.351400Z",
     "iopub.status.idle": "2024-02-02T14:24:18.359460Z",
     "shell.execute_reply": "2024-02-02T14:24:18.358168Z"
    },
    "papermill": {
     "duration": 0.028553,
     "end_time": "2024-02-02T14:24:18.362001",
     "exception": false,
     "start_time": "2024-02-02T14:24:18.333448",
     "status": "completed"
    },
    "tags": []
   },
   "outputs": [],
   "source": [
    "def os(data):\n",
    "    if 'windows' in data.lower():\n",
    "        return \"Windows\"\n",
    "    elif 'mac' in data.lower():\n",
    "        return \"Mac\"\n",
    "    else:\n",
    "        return \"Others\"\n",
    "\n",
    "df['Operating System'] = df['Operating System'].apply(os)\n"
   ]
  },
  {
   "cell_type": "code",
   "execution_count": null,
   "id": "47e286a7",
   "metadata": {
    "execution": {
     "iopub.execute_input": "2024-02-02T14:24:18.396474Z",
     "iopub.status.busy": "2024-02-02T14:24:18.396059Z",
     "iopub.status.idle": "2024-02-02T14:24:18.403583Z",
     "shell.execute_reply": "2024-02-02T14:24:18.402512Z"
    },
    "papermill": {
     "duration": 0.0275,
     "end_time": "2024-02-02T14:24:18.405899",
     "exception": false,
     "start_time": "2024-02-02T14:24:18.378399",
     "status": "completed"
    },
    "tags": []
   },
   "outputs": [],
   "source": [
    "df[\"Processor\"] = df['Processor'].apply(lambda x:\" \".join(x.split()[0:2]))"
   ]
  },
  {
   "cell_type": "code",
   "execution_count": null,
   "id": "5a185471",
   "metadata": {
    "execution": {
     "iopub.execute_input": "2024-02-02T14:24:18.440210Z",
     "iopub.status.busy": "2024-02-02T14:24:18.439645Z",
     "iopub.status.idle": "2024-02-02T14:24:18.448526Z",
     "shell.execute_reply": "2024-02-02T14:24:18.447559Z"
    },
    "papermill": {
     "duration": 0.028598,
     "end_time": "2024-02-02T14:24:18.450795",
     "exception": false,
     "start_time": "2024-02-02T14:24:18.422197",
     "status": "completed"
    },
    "tags": []
   },
   "outputs": [],
   "source": [
    "df['Processor'].value_counts()"
   ]
  },
  {
   "cell_type": "code",
   "execution_count": null,
   "id": "f7502434",
   "metadata": {
    "execution": {
     "iopub.execute_input": "2024-02-02T14:24:18.485965Z",
     "iopub.status.busy": "2024-02-02T14:24:18.485212Z",
     "iopub.status.idle": "2024-02-02T14:24:18.494855Z",
     "shell.execute_reply": "2024-02-02T14:24:18.493459Z"
    },
    "papermill": {
     "duration": 0.030017,
     "end_time": "2024-02-02T14:24:18.497324",
     "exception": false,
     "start_time": "2024-02-02T14:24:18.467307",
     "status": "completed"
    },
    "tags": []
   },
   "outputs": [],
   "source": [
    "def processor(text):\n",
    "    if \"Celeron\" in text:\n",
    "        return \"Celeron\"\n",
    "    elif \"Core\" in text:\n",
    "        if \"9\" in text:\n",
    "            return \"Others\"\n",
    "        else:\n",
    "            return text\n",
    "    elif \"Ryzen\" in text:\n",
    "        if any(m in text for m in ['Z1', \"9\"]):\n",
    "            return \"Others\"\n",
    "        else:\n",
    "            return text\n",
    "    elif any(m in text for m in [\"M1\", \"M2\", \"M3\"]):\n",
    "        return \"Mac\"\n",
    "    else:\n",
    "        return \"Others\"\n",
    "\n",
    "df[\"Processor\"] = df['Processor'].apply(processor)"
   ]
  },
  {
   "cell_type": "code",
   "execution_count": null,
   "id": "80c49196",
   "metadata": {
    "execution": {
     "iopub.execute_input": "2024-02-02T14:24:18.532655Z",
     "iopub.status.busy": "2024-02-02T14:24:18.532208Z",
     "iopub.status.idle": "2024-02-02T14:24:18.541659Z",
     "shell.execute_reply": "2024-02-02T14:24:18.540546Z"
    },
    "papermill": {
     "duration": 0.029982,
     "end_time": "2024-02-02T14:24:18.544112",
     "exception": false,
     "start_time": "2024-02-02T14:24:18.514130",
     "status": "completed"
    },
    "tags": []
   },
   "outputs": [],
   "source": [
    "df.Processor.value_counts()"
   ]
  },
  {
   "cell_type": "code",
   "execution_count": null,
   "id": "18e04623",
   "metadata": {
    "execution": {
     "iopub.execute_input": "2024-02-02T14:24:18.579935Z",
     "iopub.status.busy": "2024-02-02T14:24:18.579518Z",
     "iopub.status.idle": "2024-02-02T14:24:18.599367Z",
     "shell.execute_reply": "2024-02-02T14:24:18.598570Z"
    },
    "papermill": {
     "duration": 0.040047,
     "end_time": "2024-02-02T14:24:18.601360",
     "exception": false,
     "start_time": "2024-02-02T14:24:18.561313",
     "status": "completed"
    },
    "tags": []
   },
   "outputs": [],
   "source": [
    "df['Storage'] = df['Storage'].str.replace(\"GB\",\"\")\n",
    "df['Storage'] = df['Storage'].str.replace(\"TB\",\"000\")\n",
    "df['Storage'] = df['Storage'].str.replace(\" \",\"\")\n",
    "df.sample(5)"
   ]
  },
  {
   "cell_type": "code",
   "execution_count": null,
   "id": "c7d10912",
   "metadata": {
    "execution": {
     "iopub.execute_input": "2024-02-02T14:24:18.638025Z",
     "iopub.status.busy": "2024-02-02T14:24:18.637543Z",
     "iopub.status.idle": "2024-02-02T14:24:18.655175Z",
     "shell.execute_reply": "2024-02-02T14:24:18.654031Z"
    },
    "papermill": {
     "duration": 0.039197,
     "end_time": "2024-02-02T14:24:18.657542",
     "exception": false,
     "start_time": "2024-02-02T14:24:18.618345",
     "status": "completed"
    },
    "tags": []
   },
   "outputs": [],
   "source": [
    "df['RAM'] = df['RAM'].str.replace(\"GB\",\"\")\n",
    "df.sample(5)"
   ]
  },
  {
   "cell_type": "code",
   "execution_count": null,
   "id": "415eff8c",
   "metadata": {
    "execution": {
     "iopub.execute_input": "2024-02-02T14:24:18.696779Z",
     "iopub.status.busy": "2024-02-02T14:24:18.695641Z",
     "iopub.status.idle": "2024-02-02T14:24:18.706480Z",
     "shell.execute_reply": "2024-02-02T14:24:18.705344Z"
    },
    "papermill": {
     "duration": 0.032267,
     "end_time": "2024-02-02T14:24:18.709044",
     "exception": false,
     "start_time": "2024-02-02T14:24:18.676777",
     "status": "completed"
    },
    "tags": []
   },
   "outputs": [],
   "source": [
    "df['Screen Size'].value_counts()"
   ]
  },
  {
   "cell_type": "code",
   "execution_count": null,
   "id": "30f0c8d4",
   "metadata": {
    "execution": {
     "iopub.execute_input": "2024-02-02T14:24:18.746410Z",
     "iopub.status.busy": "2024-02-02T14:24:18.746011Z",
     "iopub.status.idle": "2024-02-02T14:24:18.753275Z",
     "shell.execute_reply": "2024-02-02T14:24:18.752121Z"
    },
    "papermill": {
     "duration": 0.02897,
     "end_time": "2024-02-02T14:24:18.755815",
     "exception": false,
     "start_time": "2024-02-02T14:24:18.726845",
     "status": "completed"
    },
    "tags": []
   },
   "outputs": [],
   "source": [
    "df['Screen Size'] = df['Screen Size'].apply(lambda x:\"\".join(x.split(\" \")[0]))"
   ]
  },
  {
   "cell_type": "code",
   "execution_count": null,
   "id": "8609e1ab",
   "metadata": {
    "execution": {
     "iopub.execute_input": "2024-02-02T14:24:18.793337Z",
     "iopub.status.busy": "2024-02-02T14:24:18.792157Z",
     "iopub.status.idle": "2024-02-02T14:24:18.811683Z",
     "shell.execute_reply": "2024-02-02T14:24:18.810546Z"
    },
    "papermill": {
     "duration": 0.040902,
     "end_time": "2024-02-02T14:24:18.814240",
     "exception": false,
     "start_time": "2024-02-02T14:24:18.773338",
     "status": "completed"
    },
    "tags": []
   },
   "outputs": [],
   "source": [
    "df.Price = df.Price.str.replace(\"₹\",\"\")\n",
    "df.Price = df.Price.str.replace(\",\",\"\")\n",
    "df.sample(5)"
   ]
  },
  {
   "cell_type": "code",
   "execution_count": null,
   "id": "66bdcc89",
   "metadata": {
    "execution": {
     "iopub.execute_input": "2024-02-02T14:24:18.851666Z",
     "iopub.status.busy": "2024-02-02T14:24:18.850883Z",
     "iopub.status.idle": "2024-02-02T14:24:18.858356Z",
     "shell.execute_reply": "2024-02-02T14:24:18.857541Z"
    },
    "papermill": {
     "duration": 0.02888,
     "end_time": "2024-02-02T14:24:18.860689",
     "exception": false,
     "start_time": "2024-02-02T14:24:18.831809",
     "status": "completed"
    },
    "tags": []
   },
   "outputs": [],
   "source": [
    "df[['Storage','RAM','Price']] = df[['Storage','RAM','Price']].astype(int)"
   ]
  },
  {
   "cell_type": "code",
   "execution_count": null,
   "id": "aa0fb9ba",
   "metadata": {
    "execution": {
     "iopub.execute_input": "2024-02-02T14:24:18.898690Z",
     "iopub.status.busy": "2024-02-02T14:24:18.897735Z",
     "iopub.status.idle": "2024-02-02T14:24:18.904219Z",
     "shell.execute_reply": "2024-02-02T14:24:18.903295Z"
    },
    "papermill": {
     "duration": 0.028218,
     "end_time": "2024-02-02T14:24:18.906580",
     "exception": false,
     "start_time": "2024-02-02T14:24:18.878362",
     "status": "completed"
    },
    "tags": []
   },
   "outputs": [],
   "source": [
    "df[\"Screen Size\"] = df['Screen Size'].astype(float)"
   ]
  },
  {
   "cell_type": "code",
   "execution_count": null,
   "id": "b8d8d171",
   "metadata": {
    "execution": {
     "iopub.execute_input": "2024-02-02T14:24:18.944289Z",
     "iopub.status.busy": "2024-02-02T14:24:18.943288Z",
     "iopub.status.idle": "2024-02-02T14:24:18.956311Z",
     "shell.execute_reply": "2024-02-02T14:24:18.954794Z"
    },
    "papermill": {
     "duration": 0.034712,
     "end_time": "2024-02-02T14:24:18.959013",
     "exception": false,
     "start_time": "2024-02-02T14:24:18.924301",
     "status": "completed"
    },
    "tags": []
   },
   "outputs": [],
   "source": [
    "df.info()"
   ]
  },
  {
   "cell_type": "code",
   "execution_count": null,
   "id": "d2fa6dc4",
   "metadata": {
    "execution": {
     "iopub.execute_input": "2024-02-02T14:24:18.997892Z",
     "iopub.status.busy": "2024-02-02T14:24:18.997056Z",
     "iopub.status.idle": "2024-02-02T14:24:19.003939Z",
     "shell.execute_reply": "2024-02-02T14:24:19.002758Z"
    },
    "papermill": {
     "duration": 0.028648,
     "end_time": "2024-02-02T14:24:19.006400",
     "exception": false,
     "start_time": "2024-02-02T14:24:18.977752",
     "status": "completed"
    },
    "tags": []
   },
   "outputs": [],
   "source": [
    "df.drop(columns=\"Model Name\",inplace=True)"
   ]
  },
  {
   "cell_type": "code",
   "execution_count": null,
   "id": "11cc1449",
   "metadata": {
    "execution": {
     "iopub.execute_input": "2024-02-02T14:24:19.106593Z",
     "iopub.status.busy": "2024-02-02T14:24:19.106181Z",
     "iopub.status.idle": "2024-02-02T14:24:19.122023Z",
     "shell.execute_reply": "2024-02-02T14:24:19.120777Z"
    },
    "papermill": {
     "duration": 0.038782,
     "end_time": "2024-02-02T14:24:19.124899",
     "exception": false,
     "start_time": "2024-02-02T14:24:19.086117",
     "status": "completed"
    },
    "tags": []
   },
   "outputs": [],
   "source": [
    "df.sample()"
   ]
  },
  {
   "cell_type": "code",
   "execution_count": null,
   "id": "896f4e1b",
   "metadata": {
    "execution": {
     "iopub.execute_input": "2024-02-02T14:24:19.163623Z",
     "iopub.status.busy": "2024-02-02T14:24:19.163238Z",
     "iopub.status.idle": "2024-02-02T14:24:19.456734Z",
     "shell.execute_reply": "2024-02-02T14:24:19.455580Z"
    },
    "papermill": {
     "duration": 0.315661,
     "end_time": "2024-02-02T14:24:19.459261",
     "exception": false,
     "start_time": "2024-02-02T14:24:19.143600",
     "status": "completed"
    },
    "tags": []
   },
   "outputs": [],
   "source": [
    "sns.heatmap(df.corr(numeric_only=True))"
   ]
  },
  {
   "cell_type": "code",
   "execution_count": null,
   "id": "109dac41",
   "metadata": {
    "execution": {
     "iopub.execute_input": "2024-02-02T14:24:19.498992Z",
     "iopub.status.busy": "2024-02-02T14:24:19.498601Z",
     "iopub.status.idle": "2024-02-02T14:24:19.925972Z",
     "shell.execute_reply": "2024-02-02T14:24:19.924609Z"
    },
    "papermill": {
     "duration": 0.45068,
     "end_time": "2024-02-02T14:24:19.928992",
     "exception": false,
     "start_time": "2024-02-02T14:24:19.478312",
     "status": "completed"
    },
    "tags": []
   },
   "outputs": [],
   "source": [
    "sns.distplot(df.Price)"
   ]
  },
  {
   "cell_type": "code",
   "execution_count": null,
   "id": "e3552e97",
   "metadata": {
    "execution": {
     "iopub.execute_input": "2024-02-02T14:24:19.971104Z",
     "iopub.status.busy": "2024-02-02T14:24:19.970654Z",
     "iopub.status.idle": "2024-02-02T14:24:20.275001Z",
     "shell.execute_reply": "2024-02-02T14:24:20.273789Z"
    },
    "papermill": {
     "duration": 0.329913,
     "end_time": "2024-02-02T14:24:20.278868",
     "exception": false,
     "start_time": "2024-02-02T14:24:19.948955",
     "status": "completed"
    },
    "tags": []
   },
   "outputs": [],
   "source": [
    "df['Processor'].value_counts().plot(kind = 'bar')"
   ]
  },
  {
   "cell_type": "code",
   "execution_count": null,
   "id": "36bb26dc",
   "metadata": {
    "execution": {
     "iopub.execute_input": "2024-02-02T14:24:20.324719Z",
     "iopub.status.busy": "2024-02-02T14:24:20.324290Z",
     "iopub.status.idle": "2024-02-02T14:24:20.333290Z",
     "shell.execute_reply": "2024-02-02T14:24:20.332432Z"
    },
    "papermill": {
     "duration": 0.033192,
     "end_time": "2024-02-02T14:24:20.335454",
     "exception": false,
     "start_time": "2024-02-02T14:24:20.302262",
     "status": "completed"
    },
    "tags": []
   },
   "outputs": [],
   "source": [
    "df['Brand'].value_counts()"
   ]
  },
  {
   "cell_type": "code",
   "execution_count": null,
   "id": "4c2ab2c4",
   "metadata": {
    "execution": {
     "iopub.execute_input": "2024-02-02T14:24:20.383176Z",
     "iopub.status.busy": "2024-02-02T14:24:20.382756Z",
     "iopub.status.idle": "2024-02-02T14:24:20.391307Z",
     "shell.execute_reply": "2024-02-02T14:24:20.390176Z"
    },
    "papermill": {
     "duration": 0.036247,
     "end_time": "2024-02-02T14:24:20.393817",
     "exception": false,
     "start_time": "2024-02-02T14:24:20.357570",
     "status": "completed"
    },
    "tags": []
   },
   "outputs": [],
   "source": [
    "rare_b = ['SAMSUNG','GIGABYTE','CHUWI','WINGS','ZEBRONICS','Ultimus','LG','realme','Primebook','MICROSOFT']\n",
    "df.Brand = df.Brand.apply(lambda x: \"Others\" if x in rare_b else x)"
   ]
  },
  {
   "cell_type": "code",
   "execution_count": null,
   "id": "523db3a4",
   "metadata": {
    "execution": {
     "iopub.execute_input": "2024-02-02T14:24:20.439362Z",
     "iopub.status.busy": "2024-02-02T14:24:20.438971Z",
     "iopub.status.idle": "2024-02-02T14:24:20.687849Z",
     "shell.execute_reply": "2024-02-02T14:24:20.686641Z"
    },
    "papermill": {
     "duration": 0.275622,
     "end_time": "2024-02-02T14:24:20.690636",
     "exception": false,
     "start_time": "2024-02-02T14:24:20.415014",
     "status": "completed"
    },
    "tags": []
   },
   "outputs": [],
   "source": [
    "df['Brand'].value_counts().plot(kind = 'bar')"
   ]
  },
  {
   "cell_type": "code",
   "execution_count": null,
   "id": "cd5598e6",
   "metadata": {
    "execution": {
     "iopub.execute_input": "2024-02-02T14:24:20.736044Z",
     "iopub.status.busy": "2024-02-02T14:24:20.735596Z",
     "iopub.status.idle": "2024-02-02T14:24:21.222194Z",
     "shell.execute_reply": "2024-02-02T14:24:21.220897Z"
    },
    "papermill": {
     "duration": 0.51217,
     "end_time": "2024-02-02T14:24:21.224758",
     "exception": false,
     "start_time": "2024-02-02T14:24:20.712588",
     "status": "completed"
    },
    "tags": []
   },
   "outputs": [],
   "source": [
    "sns.barplot(x=df.Brand,y=df.Price)\n",
    "plt.xticks(rotation = 'vertical')\n",
    "plt.show()"
   ]
  },
  {
   "cell_type": "code",
   "execution_count": null,
   "id": "7cb9c661",
   "metadata": {
    "execution": {
     "iopub.execute_input": "2024-02-02T14:24:21.271967Z",
     "iopub.status.busy": "2024-02-02T14:24:21.271241Z",
     "iopub.status.idle": "2024-02-02T14:24:21.519211Z",
     "shell.execute_reply": "2024-02-02T14:24:21.518049Z"
    },
    "papermill": {
     "duration": 0.273538,
     "end_time": "2024-02-02T14:24:21.521760",
     "exception": false,
     "start_time": "2024-02-02T14:24:21.248222",
     "status": "completed"
    },
    "tags": []
   },
   "outputs": [],
   "source": [
    "sns.barplot(x=df['Operating System'],y=df.Price)\n",
    "plt.xticks(rotation = \"vertical\")\n",
    "plt.show()"
   ]
  },
  {
   "cell_type": "code",
   "execution_count": null,
   "id": "c29eed15",
   "metadata": {
    "execution": {
     "iopub.execute_input": "2024-02-02T14:24:21.567584Z",
     "iopub.status.busy": "2024-02-02T14:24:21.567134Z",
     "iopub.status.idle": "2024-02-02T14:24:21.572440Z",
     "shell.execute_reply": "2024-02-02T14:24:21.571255Z"
    },
    "papermill": {
     "duration": 0.030985,
     "end_time": "2024-02-02T14:24:21.574754",
     "exception": false,
     "start_time": "2024-02-02T14:24:21.543769",
     "status": "completed"
    },
    "tags": []
   },
   "outputs": [],
   "source": [
    "from sklearn.pipeline import Pipeline\n",
    "from sklearn.model_selection import train_test_split"
   ]
  },
  {
   "cell_type": "code",
   "execution_count": null,
   "id": "20e0bc1f",
   "metadata": {
    "execution": {
     "iopub.execute_input": "2024-02-02T14:24:21.620808Z",
     "iopub.status.busy": "2024-02-02T14:24:21.619676Z",
     "iopub.status.idle": "2024-02-02T14:24:21.986688Z",
     "shell.execute_reply": "2024-02-02T14:24:21.985419Z"
    },
    "papermill": {
     "duration": 0.392796,
     "end_time": "2024-02-02T14:24:21.989420",
     "exception": false,
     "start_time": "2024-02-02T14:24:21.596624",
     "status": "completed"
    },
    "tags": []
   },
   "outputs": [],
   "source": [
    "X= df.drop(columns=\"Price\")\n",
    "Y = np.log(df['Price'])\n",
    "sns.distplot(Y)"
   ]
  },
  {
   "cell_type": "code",
   "execution_count": null,
   "id": "33fd04dc",
   "metadata": {
    "execution": {
     "iopub.execute_input": "2024-02-02T14:24:22.036834Z",
     "iopub.status.busy": "2024-02-02T14:24:22.036406Z",
     "iopub.status.idle": "2024-02-02T14:24:22.045263Z",
     "shell.execute_reply": "2024-02-02T14:24:22.044222Z"
    },
    "papermill": {
     "duration": 0.035437,
     "end_time": "2024-02-02T14:24:22.047602",
     "exception": false,
     "start_time": "2024-02-02T14:24:22.012165",
     "status": "completed"
    },
    "tags": []
   },
   "outputs": [],
   "source": [
    "X_train,X_test,Y_train,Y_test = train_test_split(X,Y,test_size=0.2,random_state=83)"
   ]
  },
  {
   "cell_type": "code",
   "execution_count": null,
   "id": "7538afde",
   "metadata": {
    "execution": {
     "iopub.execute_input": "2024-02-02T14:24:22.100581Z",
     "iopub.status.busy": "2024-02-02T14:24:22.096813Z",
     "iopub.status.idle": "2024-02-02T14:24:22.119995Z",
     "shell.execute_reply": "2024-02-02T14:24:22.118624Z"
    },
    "papermill": {
     "duration": 0.05211,
     "end_time": "2024-02-02T14:24:22.122435",
     "exception": false,
     "start_time": "2024-02-02T14:24:22.070325",
     "status": "completed"
    },
    "tags": []
   },
   "outputs": [],
   "source": [
    "X_train"
   ]
  },
  {
   "cell_type": "code",
   "execution_count": null,
   "id": "3bbf1f08",
   "metadata": {
    "execution": {
     "iopub.execute_input": "2024-02-02T14:24:22.173076Z",
     "iopub.status.busy": "2024-02-02T14:24:22.171789Z",
     "iopub.status.idle": "2024-02-02T14:24:22.221520Z",
     "shell.execute_reply": "2024-02-02T14:24:22.219938Z"
    },
    "papermill": {
     "duration": 0.078549,
     "end_time": "2024-02-02T14:24:22.225828",
     "exception": false,
     "start_time": "2024-02-02T14:24:22.147279",
     "status": "completed"
    },
    "tags": []
   },
   "outputs": [],
   "source": [
    "step_1 = ColumnTransformer(transformers=[\n",
    "    ('col_tnf', OneHotEncoder(sparse_output=False, drop='first'),[0,1,2,6])\n",
    "],remainder='passthrough')\n",
    "step_2  = LinearRegression()\n",
    "pipe = Pipeline([('step1',step_1),\n",
    "                ('step2',step_2)])\n",
    "pipe.fit(X_train,Y_train)\n",
    "y_pred = pipe.predict(X_test)\n",
    "\n",
    "print('R2 score',r2_score(Y_test,y_pred))\n",
    "print('MAE',mean_absolute_error(Y_test,y_pred))\n"
   ]
  },
  {
   "cell_type": "code",
   "execution_count": null,
   "id": "52d76121",
   "metadata": {
    "execution": {
     "iopub.execute_input": "2024-02-02T14:24:22.330109Z",
     "iopub.status.busy": "2024-02-02T14:24:22.328859Z",
     "iopub.status.idle": "2024-02-02T14:24:22.640931Z",
     "shell.execute_reply": "2024-02-02T14:24:22.639199Z"
    },
    "papermill": {
     "duration": 0.365518,
     "end_time": "2024-02-02T14:24:22.644358",
     "exception": false,
     "start_time": "2024-02-02T14:24:22.278840",
     "status": "completed"
    },
    "tags": []
   },
   "outputs": [],
   "source": [
    "step_1 = ColumnTransformer(transformers=[\n",
    "    ('col_tnf', OneHotEncoder(sparse_output=False, drop='first',handle_unknown=\"ignore\"),[0,1,2,6])\n",
    "],remainder='passthrough')\n",
    "step_2  = RandomForestRegressor()\n",
    "pipe_rf = Pipeline([('step1',step_1),\n",
    "                ('step2',step_2)])\n",
    "pipe_rf.fit(X_train,Y_train)\n",
    "y_pred = pipe_rf.predict(X_test)\n",
    "\n",
    "print('R2 score',r2_score(Y_test,y_pred))\n",
    "print('MAE',mean_absolute_error(Y_test,y_pred))\n"
   ]
  },
  {
   "cell_type": "code",
   "execution_count": null,
   "id": "5b0a880a",
   "metadata": {
    "execution": {
     "iopub.execute_input": "2024-02-02T14:24:22.694419Z",
     "iopub.status.busy": "2024-02-02T14:24:22.693777Z",
     "iopub.status.idle": "2024-02-02T14:24:22.772421Z",
     "shell.execute_reply": "2024-02-02T14:24:22.770815Z"
    },
    "papermill": {
     "duration": 0.10697,
     "end_time": "2024-02-02T14:24:22.775145",
     "exception": false,
     "start_time": "2024-02-02T14:24:22.668175",
     "status": "completed"
    },
    "tags": []
   },
   "outputs": [],
   "source": [
    "step_1 = ColumnTransformer(transformers=[\n",
    "    ('col_tnf', OneHotEncoder(sparse_output=False, drop='first'),[0,1,2,6])\n",
    "],remainder='passthrough')\n",
    "step_2  = KNeighborsRegressor(n_neighbors=3)\n",
    "pipe = Pipeline([('step1',step_1),\n",
    "                ('step2',step_2)])\n",
    "pipe.fit(X_train,Y_train)\n",
    "y_pred = pipe.predict(X_test)\n",
    "\n",
    "print('R2 score',r2_score(Y_test,y_pred))\n",
    "print('MAE',mean_absolute_error(Y_test,y_pred))\n"
   ]
  },
  {
   "cell_type": "code",
   "execution_count": null,
   "id": "4c12ca93",
   "metadata": {
    "execution": {
     "iopub.execute_input": "2024-02-02T14:24:22.827258Z",
     "iopub.status.busy": "2024-02-02T14:24:22.826122Z",
     "iopub.status.idle": "2024-02-02T14:24:22.851582Z",
     "shell.execute_reply": "2024-02-02T14:24:22.850299Z"
    },
    "papermill": {
     "duration": 0.053717,
     "end_time": "2024-02-02T14:24:22.854011",
     "exception": false,
     "start_time": "2024-02-02T14:24:22.800294",
     "status": "completed"
    },
    "tags": []
   },
   "outputs": [],
   "source": [
    "from sklearn.tree import DecisionTreeRegressor\n",
    "step_1 = ColumnTransformer(transformers=[\n",
    "    ('col_tnf', OneHotEncoder(sparse_output=False, drop='first'),[0,1,2,6])\n",
    "],remainder='passthrough')\n",
    "step_2  = DecisionTreeRegressor()\n",
    "pipe = Pipeline([('step1',step_1),\n",
    "                ('step2',step_2)])\n",
    "pipe.fit(X_train,Y_train)\n",
    "y_pred = pipe.predict(X_test)\n",
    "\n",
    "print('R2 score',r2_score(Y_test,y_pred))\n",
    "print('MAE',mean_absolute_error(Y_test,y_pred))\n"
   ]
  },
  {
   "cell_type": "code",
   "execution_count": null,
   "id": "15e3f620",
   "metadata": {
    "execution": {
     "iopub.execute_input": "2024-02-02T14:24:22.904289Z",
     "iopub.status.busy": "2024-02-02T14:24:22.903332Z",
     "iopub.status.idle": "2024-02-02T14:24:23.204168Z",
     "shell.execute_reply": "2024-02-02T14:24:23.203227Z"
    },
    "papermill": {
     "duration": 0.329091,
     "end_time": "2024-02-02T14:24:23.206915",
     "exception": false,
     "start_time": "2024-02-02T14:24:22.877824",
     "status": "completed"
    },
    "tags": []
   },
   "outputs": [],
   "source": [
    "from xgboost import XGBRegressor\n",
    "X_train,X_test,Y_train,Y_test = train_test_split(X,Y,test_size=0.2,random_state=100)\n",
    "step_1 = ColumnTransformer(transformers=[\n",
    "    ('col_tnf', OneHotEncoder(sparse_output=False, drop='first'),[0,1,2,6])\n",
    "],remainder='passthrough')\n",
    "step_2 = XGBRegressor(n_estimators=45,max_depth=5,learning_rate=0.5)\n",
    "pipe = Pipeline([('step1',step_1),\n",
    "                ('step2',step_2)])\n",
    "pipe.fit(X_train,Y_train)\n",
    "y_pred = pipe.predict(X_test)\n",
    "\n",
    "print('R2 score',r2_score(Y_test,y_pred))\n",
    "print('MAE',mean_absolute_error(Y_test,y_pred))\n"
   ]
  },
  {
   "cell_type": "code",
   "execution_count": null,
   "id": "52fae891",
   "metadata": {
    "execution": {
     "iopub.execute_input": "2024-02-02T14:24:23.260053Z",
     "iopub.status.busy": "2024-02-02T14:24:23.259139Z",
     "iopub.status.idle": "2024-02-02T14:24:24.111983Z",
     "shell.execute_reply": "2024-02-02T14:24:24.110521Z"
    },
    "papermill": {
     "duration": 0.882623,
     "end_time": "2024-02-02T14:24:24.114648",
     "exception": false,
     "start_time": "2024-02-02T14:24:23.232025",
     "status": "completed"
    },
    "tags": []
   },
   "outputs": [],
   "source": [
    "step_1 = ColumnTransformer(transformers=[\n",
    "    ('col_tnf', OneHotEncoder(sparse_output=False, drop='first',handle_unknown='infrequent_if_exist'),[0,1,2,6])\n",
    "],remainder='passthrough')\n",
    "step_2 = GradientBoostingRegressor(n_estimators=500,max_depth=15,max_features=0.75,)\n",
    "pipe = Pipeline([('step1',step_1),\n",
    "                ('step2',step_2)])\n",
    "pipe.fit(X_train,Y_train)\n",
    "y_pred = pipe.predict(X_test)\n",
    "\n",
    "print('R2 score',r2_score(Y_test,y_pred))\n",
    "\n",
    "print('MAE',mean_absolute_error(Y_test,y_pred))\n"
   ]
  },
  {
   "cell_type": "code",
   "execution_count": null,
   "id": "b5616d5c",
   "metadata": {
    "execution": {
     "iopub.execute_input": "2024-02-02T14:24:24.163890Z",
     "iopub.status.busy": "2024-02-02T14:24:24.163443Z",
     "iopub.status.idle": "2024-02-02T14:24:24.171181Z",
     "shell.execute_reply": "2024-02-02T14:24:24.169910Z"
    },
    "papermill": {
     "duration": 0.035129,
     "end_time": "2024-02-02T14:24:24.173565",
     "exception": false,
     "start_time": "2024-02-02T14:24:24.138436",
     "status": "completed"
    },
    "tags": []
   },
   "outputs": [],
   "source": [
    "def best_rs(X,Y):\n",
    "    r2_score_ =[]\n",
    "    try:\n",
    "        for i in range(1,100):\n",
    "            X_train,X_test,Y_train,Y_test = train_test_split(X,Y,test_size=0.2,random_state=i)\n",
    "            pipe_rf.fit(X_train,Y_train)\n",
    "            y_pred = pipe_rf.predict(X_test)\n",
    "            r2_score_.append(r2_score(Y_test,y_pred))\n",
    "        return r2_score_\n",
    "    except ValueError as e:\n",
    "        print(\"error\")"
   ]
  },
  {
   "cell_type": "code",
   "execution_count": null,
   "id": "04a6b114",
   "metadata": {
    "execution": {
     "iopub.execute_input": "2024-02-02T14:24:24.222575Z",
     "iopub.status.busy": "2024-02-02T14:24:24.222147Z",
     "iopub.status.idle": "2024-02-02T14:24:24.227277Z",
     "shell.execute_reply": "2024-02-02T14:24:24.226093Z"
    },
    "papermill": {
     "duration": 0.032277,
     "end_time": "2024-02-02T14:24:24.229519",
     "exception": false,
     "start_time": "2024-02-02T14:24:24.197242",
     "status": "completed"
    },
    "tags": []
   },
   "outputs": [],
   "source": [
    "import warnings\n",
    "warnings.simplefilter(\"ignore\") "
   ]
  },
  {
   "cell_type": "code",
   "execution_count": null,
   "id": "ec883b55",
   "metadata": {
    "execution": {
     "iopub.execute_input": "2024-02-02T14:24:24.278283Z",
     "iopub.status.busy": "2024-02-02T14:24:24.277845Z",
     "iopub.status.idle": "2024-02-02T14:24:54.231845Z",
     "shell.execute_reply": "2024-02-02T14:24:54.230547Z"
    },
    "papermill": {
     "duration": 29.98173,
     "end_time": "2024-02-02T14:24:54.234841",
     "exception": false,
     "start_time": "2024-02-02T14:24:24.253111",
     "status": "completed"
    },
    "tags": []
   },
   "outputs": [],
   "source": [
    "result = best_rs(X,Y)\n",
    "print(np.argmax(result))"
   ]
  },
  {
   "cell_type": "code",
   "execution_count": null,
   "id": "be80aeb5",
   "metadata": {
    "execution": {
     "iopub.execute_input": "2024-02-02T14:24:54.284765Z",
     "iopub.status.busy": "2024-02-02T14:24:54.284009Z",
     "iopub.status.idle": "2024-02-02T14:24:54.593322Z",
     "shell.execute_reply": "2024-02-02T14:24:54.591951Z"
    },
    "papermill": {
     "duration": 0.337393,
     "end_time": "2024-02-02T14:24:54.596316",
     "exception": false,
     "start_time": "2024-02-02T14:24:54.258923",
     "status": "completed"
    },
    "tags": []
   },
   "outputs": [],
   "source": [
    "X_train,X_test,Y_train,Y_test = train_test_split(X,Y,test_size=0.2,random_state=84)\n",
    "step_1 = ColumnTransformer(transformers=[\n",
    "    ('col_tnf', OneHotEncoder(sparse_output=False, drop='first',handle_unknown=\"ignore\"),[0,1,2,6])\n",
    "],remainder='passthrough')\n",
    "step_2  = RandomForestRegressor()\n",
    "pipe_rf = Pipeline([('step1',step_1),\n",
    "                ('step2',step_2)])\n",
    "pipe_rf.fit(X_train,Y_train)\n",
    "y_pred = pipe_rf.predict(X_test)\n",
    "\n",
    "print('R2 score',r2_score(Y_test,y_pred))\n",
    "print('MAE',mean_absolute_error(Y_test,y_pred))"
   ]
  },
  {
   "cell_type": "code",
   "execution_count": null,
   "id": "e652752a",
   "metadata": {
    "execution": {
     "iopub.execute_input": "2024-02-02T14:24:54.647290Z",
     "iopub.status.busy": "2024-02-02T14:24:54.645934Z",
     "iopub.status.idle": "2024-02-02T14:40:07.572553Z",
     "shell.execute_reply": "2024-02-02T14:40:07.570898Z"
    },
    "papermill": {
     "duration": 912.978085,
     "end_time": "2024-02-02T14:40:07.598233",
     "exception": false,
     "start_time": "2024-02-02T14:24:54.620148",
     "status": "completed"
    },
    "tags": []
   },
   "outputs": [],
   "source": [
    "np.random.seed(42)\n",
    "from sklearn.model_selection import GridSearchCV\n",
    "param_dist = {'step2__n_estimators': [50,100,150,200,500],\n",
    "              'step2__max_depth': [2, 3, 4, 8, 15,None],\n",
    "              \n",
    "              'step2__max_samples': [0.5, 0.75, 1.0],\n",
    "              'step2__max_features': ['sqrt', 'log2', None],\n",
    "              'step2__criterion': [\"squared_error\", \"absolute_error\"]}\n",
    "\n",
    "cv_rf = GridSearchCV(estimator=pipe_rf, \n",
    "                     cv = 5,\n",
    "                     param_grid=param_dist,\n",
    "                     n_jobs = -1)\n",
    "\n",
    "cv_rf.fit(X,Y)\n",
    "\n",
    "print('Best Parameters using grid search: \\n',\n",
    "      cv_rf.best_params_)"
   ]
  },
  {
   "cell_type": "code",
   "execution_count": null,
   "id": "66eae9cb",
   "metadata": {
    "execution": {
     "iopub.execute_input": "2024-02-02T14:40:07.649059Z",
     "iopub.status.busy": "2024-02-02T14:40:07.648595Z",
     "iopub.status.idle": "2024-02-02T14:40:08.898604Z",
     "shell.execute_reply": "2024-02-02T14:40:08.897020Z"
    },
    "papermill": {
     "duration": 1.279446,
     "end_time": "2024-02-02T14:40:08.901746",
     "exception": false,
     "start_time": "2024-02-02T14:40:07.622300",
     "status": "completed"
    },
    "tags": []
   },
   "outputs": [],
   "source": [
    "X_train,X_test,Y_train,Y_test = train_test_split(X,Y,test_size=0.2,random_state=84)\n",
    "step_1 = ColumnTransformer(transformers=[\n",
    "    ('col_tnf', OneHotEncoder(sparse_output=False, drop='first',handle_unknown='infrequent_if_exist'),[0,1,2,6])\n",
    "],remainder='passthrough')\n",
    "step_2  = RandomForestRegressor(n_estimators=500,\n",
    "                                max_samples=1.0,\n",
    "                                max_features='log2',\n",
    "                                max_depth=15,\n",
    "                                criterion='squared_error'\n",
    ")\n",
    "pipe_rf = Pipeline([('step1',step_1),\n",
    "                ('step2',step_2)])\n",
    "pipe_rf.fit(X_train,Y_train)\n",
    "y_pred = pipe_rf.predict(X_test)\n",
    "\n",
    "print('R2 score',r2_score(Y_test,y_pred))\n",
    "print('MAE',mean_absolute_error(Y_test,y_pred))\n"
   ]
  },
  {
   "cell_type": "code",
   "execution_count": null,
   "id": "68dee608",
   "metadata": {
    "execution": {
     "iopub.execute_input": "2024-02-02T14:40:08.952921Z",
     "iopub.status.busy": "2024-02-02T14:40:08.952479Z",
     "iopub.status.idle": "2024-02-02T14:40:08.993291Z",
     "shell.execute_reply": "2024-02-02T14:40:08.992338Z"
    },
    "papermill": {
     "duration": 0.069739,
     "end_time": "2024-02-02T14:40:08.995868",
     "exception": false,
     "start_time": "2024-02-02T14:40:08.926129",
     "status": "completed"
    },
    "tags": []
   },
   "outputs": [],
   "source": [
    "query = np.array(['Apple','Mac','Mac',256,8,39.23,'No'])\n",
    "\n",
    "query = query.reshape(1,7)\n",
    "np.exp(pipe_rf.predict(query))"
   ]
  },
  {
   "cell_type": "code",
   "execution_count": null,
   "id": "3ba804c6",
   "metadata": {
    "papermill": {
     "duration": 0.025093,
     "end_time": "2024-02-02T14:40:09.046541",
     "exception": false,
     "start_time": "2024-02-02T14:40:09.021448",
     "status": "completed"
    },
    "tags": []
   },
   "outputs": [],
   "source": [
    "import pickle\n",
    "with open('laptop_price_model.pkl', 'wb') as f:\n",
    "    pickle.dump(pipe_rf, f)"
   ]
  }
 ],
 "metadata": {
  "kaggle": {
   "accelerator": "none",
   "dataSources": [
    {
     "datasetId": 4390466,
     "sourceId": 7539919,
     "sourceType": "datasetVersion"
    }
   ],
   "dockerImageVersionId": 30646,
   "isGpuEnabled": false,
   "isInternetEnabled": true,
   "language": "python",
   "sourceType": "notebook"
  },
  "kernelspec": {
   "display_name": "Python 3 (ipykernel)",
   "language": "python",
   "name": "python3"
  },
  "language_info": {
   "codemirror_mode": {
    "name": "ipython",
    "version": 3
   },
   "file_extension": ".py",
   "mimetype": "text/x-python",
   "name": "python",
   "nbconvert_exporter": "python",
   "pygments_lexer": "ipython3",
   "version": "3.10.12"
  },
  "papermill": {
   "default_parameters": {},
   "duration": 959.829416,
   "end_time": "2024-02-02T14:40:11.695946",
   "environment_variables": {},
   "exception": null,
   "input_path": "__notebook__.ipynb",
   "output_path": "__notebook__.ipynb",
   "parameters": {},
   "start_time": "2024-02-02T14:24:11.866530",
   "version": "2.5.0"
  }
 },
 "nbformat": 4,
 "nbformat_minor": 5
}
